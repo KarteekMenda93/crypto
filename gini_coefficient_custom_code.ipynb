{
  "nbformat": 4,
  "nbformat_minor": 0,
  "metadata": {
    "colab": {
      "name": "gini_coefficient custom code.ipynb",
      "provenance": [],
      "collapsed_sections": []
    },
    "kernelspec": {
      "name": "python3",
      "display_name": "Python 3"
    },
    "language_info": {
      "name": "python"
    }
  },
  "cells": [
    {
      "cell_type": "code",
      "source": [
        "\n"
      ],
      "metadata": {
        "colab": {
          "base_uri": "https://localhost:8080/"
        },
        "id": "fYj044h2oYl2",
        "outputId": "8450114e-f8fd-4a97-9949-c6d1ebdd76f4"
      },
      "execution_count": null,
      "outputs": [
        {
          "output_type": "stream",
          "name": "stdout",
          "text": [
            "--2022-03-14 08:53:52--  https://github.com/bnsreenu/python_for_microscopists/blob/master/259_semi_supervised_GAN/259_mnist_classification.py\n",
            "Resolving github.com (github.com)... 140.82.121.3\n",
            "Connecting to github.com (github.com)|140.82.121.3|:443... connected.\n",
            "HTTP request sent, awaiting response... 200 OK\n",
            "Length: unspecified [text/html]\n",
            "Saving to: ‘259_mnist_classification.py’\n",
            "\n",
            "259_mnist_classific     [   <=>              ] 181.66K   428KB/s    in 0.4s    \n",
            "\n",
            "2022-03-14 08:53:54 (428 KB/s) - ‘259_mnist_classification.py’ saved [186023]\n",
            "\n",
            "--2022-03-14 08:53:54--  https://github.com/bnsreenu/python_for_microscopists/blob/master/259_semi_supervised_GAN/259_semi_supervised_GAN_train.py\n",
            "Resolving github.com (github.com)... 140.82.112.3\n",
            "Connecting to github.com (github.com)|140.82.112.3|:443... connected.\n",
            "HTTP request sent, awaiting response... 200 OK\n",
            "Length: unspecified [text/html]\n",
            "Saving to: ‘259_semi_supervised_GAN_train.py’\n",
            "\n",
            "259_semi_supervised     [ <=>                ] 281.01K  --.-KB/s    in 0.1s    \n",
            "\n",
            "2022-03-14 08:53:54 (2.66 MB/s) - ‘259_semi_supervised_GAN_train.py’ saved [287756]\n",
            "\n",
            "--2022-03-14 08:53:54--  https://github.com/bnsreenu/python_for_microscopists/blob/master/260_image_anomaly_detection_using_autoencoders/260_image_anomaly_detection_using_autoencoders.py\n",
            "Resolving github.com (github.com)... 140.82.113.4\n",
            "Connecting to github.com (github.com)|140.82.113.4|:443... connected.\n",
            "HTTP request sent, awaiting response... 200 OK\n",
            "Length: unspecified [text/html]\n",
            "Saving to: ‘260_image_anomaly_detection_using_autoencoders.py’\n",
            "\n",
            "260_image_anomaly_d     [ <=>                ] 218.42K  --.-KB/s    in 0.1s    \n",
            "\n",
            "2022-03-14 08:53:55 (2.08 MB/s) - ‘260_image_anomaly_detection_using_autoencoders.py’ saved [223667]\n",
            "\n"
          ]
        }
      ]
    },
    {
      "cell_type": "code",
      "metadata": {
        "id": "5WFZTYhrRiPT"
      },
      "source": [
        "from sklearn.metrics import auc\n",
        "def lorenz_curve(y_true, y_pred, exposure):\n",
        "    y_true, y_pred = np.asarray(y_true), np.asarray(y_pred)\n",
        "    exposure = np.asarray(exposure)\n",
        "\n",
        "    # order samples by increasing predicted risk:\n",
        "    ranking = np.argsort(y_pred)\n",
        "    ranked_exposure = exposure[ranking]\n",
        "    ranked_pure_premium = y_true[ranking]\n",
        "    cumulated_claim_amount = np.cumsum(ranked_pure_premium * ranked_exposure)\n",
        "    cumulated_claim_amount /= cumulated_claim_amount[-1]\n",
        "    cumulated_samples = np.linspace(0, 1, len(cumulated_claim_amount))\n",
        "    return cumulated_samples, cumulated_claim_amount\n",
        "\n",
        "ordered_samples, cum_claims = lorenz_curve(df_test[\"PurePremium\"], y_pred, df_test[\"Exposure\"])\n",
        "gini = 1 - 2 * auc(ordered_samples, cum_claims)"
      ],
      "execution_count": null,
      "outputs": []
    },
    {
      "cell_type": "code",
      "source": [
        ""
      ],
      "metadata": {
        "id": "akd5PTyRc_Im"
      },
      "execution_count": null,
      "outputs": []
    },
    {
      "cell_type": "code",
      "source": [
        ""
      ],
      "metadata": {
        "id": "SawEIey-c_TW"
      },
      "execution_count": null,
      "outputs": []
    },
    {
      "cell_type": "code",
      "metadata": {
        "id": "k6LyJ1HXPVrF"
      },
      "source": [
        "predictions = [0.9, 0.3, 0.8, 0.75, 0.65, 0.6, 0.78, 0.7, 0.05, 0.4, 0.4, 0.05, 0.5, 0.1, 0.1]\n",
        "actual = [1, 1, 1, 1, 1, 1, 0, 0, 0, 0, 0, 0, 0, 0, 0]"
      ],
      "execution_count": null,
      "outputs": []
    },
    {
      "cell_type": "code",
      "metadata": {
        "id": "vvuI5gvBPWgw"
      },
      "source": [
        "import numpy as np"
      ],
      "execution_count": null,
      "outputs": []
    },
    {
      "cell_type": "code",
      "metadata": {
        "colab": {
          "base_uri": "https://localhost:8080/"
        },
        "id": "JXqwHaciPbMA",
        "outputId": "52aece07-4200-4bd7-cfd1-66a2d1e579c1"
      },
      "source": [
        "all = np.asarray(np.c_[actual, predictions, np.arange(len(actual))], dtype=np.float)\n",
        "all # arranging in an array"
      ],
      "execution_count": null,
      "outputs": [
        {
          "output_type": "stream",
          "name": "stderr",
          "text": [
            "/usr/local/lib/python3.7/dist-packages/ipykernel_launcher.py:1: DeprecationWarning: `np.float` is a deprecated alias for the builtin `float`. To silence this warning, use `float` by itself. Doing this will not modify any behavior and is safe. If you specifically wanted the numpy scalar type, use `np.float64` here.\n",
            "Deprecated in NumPy 1.20; for more details and guidance: https://numpy.org/devdocs/release/1.20.0-notes.html#deprecations\n",
            "  \"\"\"Entry point for launching an IPython kernel.\n"
          ]
        },
        {
          "output_type": "execute_result",
          "data": {
            "text/plain": [
              "array([[ 1.  ,  0.9 ,  0.  ],\n",
              "       [ 1.  ,  0.3 ,  1.  ],\n",
              "       [ 1.  ,  0.8 ,  2.  ],\n",
              "       [ 1.  ,  0.75,  3.  ],\n",
              "       [ 1.  ,  0.65,  4.  ],\n",
              "       [ 1.  ,  0.6 ,  5.  ],\n",
              "       [ 0.  ,  0.78,  6.  ],\n",
              "       [ 0.  ,  0.7 ,  7.  ],\n",
              "       [ 0.  ,  0.05,  8.  ],\n",
              "       [ 0.  ,  0.4 ,  9.  ],\n",
              "       [ 0.  ,  0.4 , 10.  ],\n",
              "       [ 0.  ,  0.05, 11.  ],\n",
              "       [ 0.  ,  0.5 , 12.  ],\n",
              "       [ 0.  ,  0.1 , 13.  ],\n",
              "       [ 0.  ,  0.1 , 14.  ]])"
            ]
          },
          "metadata": {},
          "execution_count": 3
        }
      ]
    },
    {
      "cell_type": "code",
      "metadata": {
        "colab": {
          "base_uri": "https://localhost:8080/"
        },
        "id": "yPGRX-vOPjxO",
        "outputId": "d494459d-b5d5-491c-c317-805ad3ddf673"
      },
      "source": [
        "all = all[np.lexsort((all[:, 2], -1 * all[:, 1]))]\n",
        "all# sort based on predictions from large to small"
      ],
      "execution_count": null,
      "outputs": [
        {
          "output_type": "execute_result",
          "data": {
            "text/plain": [
              "array([[ 1.  ,  0.9 ,  0.  ],\n",
              "       [ 1.  ,  0.8 ,  2.  ],\n",
              "       [ 0.  ,  0.78,  6.  ],\n",
              "       [ 1.  ,  0.75,  3.  ],\n",
              "       [ 0.  ,  0.7 ,  7.  ],\n",
              "       [ 1.  ,  0.65,  4.  ],\n",
              "       [ 1.  ,  0.6 ,  5.  ],\n",
              "       [ 0.  ,  0.5 , 12.  ],\n",
              "       [ 0.  ,  0.4 ,  9.  ],\n",
              "       [ 0.  ,  0.4 , 10.  ],\n",
              "       [ 1.  ,  0.3 ,  1.  ],\n",
              "       [ 0.  ,  0.1 , 13.  ],\n",
              "       [ 0.  ,  0.1 , 14.  ],\n",
              "       [ 0.  ,  0.05,  8.  ],\n",
              "       [ 0.  ,  0.05, 11.  ]])"
            ]
          },
          "metadata": {},
          "execution_count": 4
        }
      ]
    },
    {
      "cell_type": "code",
      "metadata": {
        "colab": {
          "base_uri": "https://localhost:8080/"
        },
        "id": "1dDhhbYrdFWR",
        "outputId": "4bbfd05f-59b5-4f85-a60e-baddcc18fd3f"
      },
      "source": [
        "totalLosses = all[:, 0].sum()\n",
        "totalLosses# sum o f all the `actual` column"
      ],
      "execution_count": null,
      "outputs": [
        {
          "output_type": "execute_result",
          "data": {
            "text/plain": [
              "6.0"
            ]
          },
          "metadata": {},
          "execution_count": 5
        }
      ]
    },
    {
      "cell_type": "code",
      "metadata": {
        "colab": {
          "base_uri": "https://localhost:8080/"
        },
        "id": "xRrABdIAdO7i",
        "outputId": "63280697-c5c8-45ef-dff7-8b64910b6a36"
      },
      "source": [
        "giniSum = all[:, 0].cumsum().sum() / totalLosses# for `actual column` finding the total of cumulative sum of the actual column array/sum of all of the actual column\n",
        "giniSum"
      ],
      "execution_count": null,
      "outputs": [
        {
          "output_type": "execute_result",
          "data": {
            "text/plain": [
              "10.833333333333334"
            ]
          },
          "metadata": {},
          "execution_count": 6
        }
      ]
    },
    {
      "cell_type": "code",
      "metadata": {
        "colab": {
          "base_uri": "https://localhost:8080/"
        },
        "id": "U3dXBsokddoB",
        "outputId": "c068ab89-0932-443e-e350-d88f8c8ab0ba"
      },
      "source": [
        "giniSum -= (len(actual) + 1) / 2.\n",
        "giniSum"
      ],
      "execution_count": null,
      "outputs": [
        {
          "output_type": "execute_result",
          "data": {
            "text/plain": [
              "2.833333333333334"
            ]
          },
          "metadata": {},
          "execution_count": 7
        }
      ]
    },
    {
      "cell_type": "code",
      "metadata": {
        "colab": {
          "base_uri": "https://localhost:8080/"
        },
        "id": "fiqqqsr4di3Q",
        "outputId": "dd728a52-9d62-4a73-bf8f-aee42a2f601d"
      },
      "source": [
        "giniSum / len(actual)# gini coefficient"
      ],
      "execution_count": null,
      "outputs": [
        {
          "output_type": "execute_result",
          "data": {
            "text/plain": [
              "0.18888888888888894"
            ]
          },
          "metadata": {},
          "execution_count": 8
        }
      ]
    },
    {
      "cell_type": "markdown",
      "source": [
        "*ALL code put together*"
      ],
      "metadata": {
        "id": "ZQ_dL8wddpGt"
      }
    },
    {
      "cell_type": "code",
      "source": [
        "assert (len(actual) == len(predictions))\n",
        "all = np.asarray(np.c_[actual, predictions, np.arange(len(actual))], dtype=np.float)# arranging in an array\n",
        "all = all[np.lexsort((all[:, 2], -1 * all[:, 1]))]# sort based on predictions from large to small\n",
        "totalLosses = all[:, 0].sum()# sum of all the actual column\n",
        "giniSum = all[:, 0].cumsum().sum() / totalLosses# for actual column finding the total of cumulative sum of the actual column array/sum of all of the actual column\n",
        "giniSum -= (len(actual) + 1) / 2.\n",
        "giniSum / len(actual)# gini coefficient"
      ],
      "metadata": {
        "colab": {
          "base_uri": "https://localhost:8080/"
        },
        "id": "QNK-FtjgdnXH",
        "outputId": "f92afa1e-b3d9-4908-8775-5bb1a9087e45"
      },
      "execution_count": null,
      "outputs": [
        {
          "output_type": "stream",
          "name": "stderr",
          "text": [
            "/usr/local/lib/python3.7/dist-packages/ipykernel_launcher.py:2: DeprecationWarning: `np.float` is a deprecated alias for the builtin `float`. To silence this warning, use `float` by itself. Doing this will not modify any behavior and is safe. If you specifically wanted the numpy scalar type, use `np.float64` here.\n",
            "Deprecated in NumPy 1.20; for more details and guidance: https://numpy.org/devdocs/release/1.20.0-notes.html#deprecations\n",
            "  \n"
          ]
        },
        {
          "output_type": "execute_result",
          "data": {
            "text/plain": [
              "0.18888888888888894"
            ]
          },
          "metadata": {},
          "execution_count": 9
        }
      ]
    },
    {
      "cell_type": "code",
      "source": [
        ""
      ],
      "metadata": {
        "id": "-dTpTSvHdvKf"
      },
      "execution_count": null,
      "outputs": []
    }
  ]
}